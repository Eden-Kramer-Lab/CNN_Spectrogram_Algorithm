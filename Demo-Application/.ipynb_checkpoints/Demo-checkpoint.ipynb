{
 "cells": [
  {
   "cell_type": "markdown",
   "metadata": {},
   "source": [
    "## Demo code to apply the CNN spike ripple detector\n",
    "\n",
    "In this notebook, you will load an example time series data, apply the trained CNN spike ripple detector, and visualize the results."
   ]
  },
  {
   "cell_type": "markdown",
   "metadata": {},
   "source": [
    "### Import libraries"
   ]
  },
  {
   "cell_type": "code",
   "execution_count": 1,
   "metadata": {},
   "outputs": [],
   "source": [
    "import pandas as pd\n",
    "import numpy as np\n",
    "import matplotlib.pyplot as plt"
   ]
  },
  {
   "cell_type": "markdown",
   "metadata": {},
   "source": [
    "### Load local functions in `demo_functions.py`\n",
    "\n",
    "There are 3 functions to:\n",
    "- Create the spectrogram image files (`make_spectra_image_files` and `hannspecgramc`).\n",
    "- Compute and apply the CNN for spike ripple classification (`compute_CNN`).\n",
    "\n",
    "If you'd like to print out and see these functions, uncomment the line below."
   ]
  },
  {
   "cell_type": "code",
   "execution_count": 2,
   "metadata": {},
   "outputs": [],
   "source": [
    "%run demo_functions\n",
    "# %load demo_functions    # Run this line to see the functions."
   ]
  },
  {
   "cell_type": "markdown",
   "metadata": {},
   "source": [
    "### Import the time series data\n",
    "- `data` is the voltage time series,\n",
    "- `time` is the corresponding time series (in seconds).\n",
    "\n",
    "Both files are CSV files."
   ]
  },
  {
   "cell_type": "code",
   "execution_count": 3,
   "metadata": {},
   "outputs": [],
   "source": [
    "data = pd.read_csv('data.csv').values    # Data file\n",
    "time = pd.read_csv('time.csv').values    # Time file"
   ]
  },
  {
   "cell_type": "markdown",
   "metadata": {},
   "source": [
    "### Create spectra image files\n",
    "Compute spectrograms for time series in `data`. Image files are saved to the folder `demo_data`."
   ]
  },
  {
   "cell_type": "code",
   "execution_count": 4,
   "metadata": {},
   "outputs": [],
   "source": [
    "[start_time_dict, stop_time_dict] = make_spectra_image_files(data, time)"
   ]
  },
  {
   "cell_type": "markdown",
   "metadata": {},
   "source": [
    "### Apply pre-trained CNN to `data`\n",
    "\n",
    "The pre-trained CNN uses the model in the file `saved_model.pkl`. This model was trained using the human EEG data with expert classification."
   ]
  },
  {
   "cell_type": "code",
   "execution_count": 5,
   "metadata": {},
   "outputs": [],
   "source": [
    "path_to_image_files         = \"demo_data\"\n",
    "spike_ripple_predictions_df = compute_CNN(path_to_image_files, start_time_dict, stop_time_dict)"
   ]
  },
  {
   "cell_type": "markdown",
   "metadata": {},
   "source": [
    "### Visualize results\n",
    "\n",
    "Print the results of the dataframe, and plot the probability of a spike ripple as a function of time, and as a function of image number."
   ]
  },
  {
   "cell_type": "code",
   "execution_count": 6,
   "metadata": {},
   "outputs": [
    {
     "data": {
      "text/html": [
       "<div>\n",
       "<style scoped>\n",
       "    .dataframe tbody tr th:only-of-type {\n",
       "        vertical-align: middle;\n",
       "    }\n",
       "\n",
       "    .dataframe tbody tr th {\n",
       "        vertical-align: top;\n",
       "    }\n",
       "\n",
       "    .dataframe thead th {\n",
       "        text-align: right;\n",
       "    }\n",
       "</style>\n",
       "<table border=\"1\" class=\"dataframe\">\n",
       "  <thead>\n",
       "    <tr style=\"text-align: right;\">\n",
       "      <th></th>\n",
       "      <th>image_number</th>\n",
       "      <th>prediction</th>\n",
       "      <th>probability</th>\n",
       "      <th>start time</th>\n",
       "      <th>stop time</th>\n",
       "    </tr>\n",
       "  </thead>\n",
       "  <tbody>\n",
       "    <tr>\n",
       "      <th>0</th>\n",
       "      <td>10.jpg</td>\n",
       "      <td>0</td>\n",
       "      <td>0.003044</td>\n",
       "      <td>[5.003439803439799]</td>\n",
       "      <td>[6.002948402948401]</td>\n",
       "    </tr>\n",
       "    <tr>\n",
       "      <th>1</th>\n",
       "      <td>38.jpg</td>\n",
       "      <td>0</td>\n",
       "      <td>0.000035</td>\n",
       "      <td>[19.010319410319397]</td>\n",
       "      <td>[20.009828009828]</td>\n",
       "    </tr>\n",
       "    <tr>\n",
       "      <th>2</th>\n",
       "      <td>117.jpg</td>\n",
       "      <td>0</td>\n",
       "      <td>0.000008</td>\n",
       "      <td>[58.5297297297297]</td>\n",
       "      <td>[59.529238329238304]</td>\n",
       "    </tr>\n",
       "    <tr>\n",
       "      <th>3</th>\n",
       "      <td>103.jpg</td>\n",
       "      <td>0</td>\n",
       "      <td>0.000572</td>\n",
       "      <td>[51.5262899262899]</td>\n",
       "      <td>[52.5257985257985]</td>\n",
       "    </tr>\n",
       "    <tr>\n",
       "      <th>4</th>\n",
       "      <td>1.jpg</td>\n",
       "      <td>0</td>\n",
       "      <td>0.000070</td>\n",
       "      <td>[0.501228501228501]</td>\n",
       "      <td>[1.5007371007371002]</td>\n",
       "    </tr>\n",
       "    <tr>\n",
       "      <th>...</th>\n",
       "      <td>...</td>\n",
       "      <td>...</td>\n",
       "      <td>...</td>\n",
       "      <td>...</td>\n",
       "      <td>...</td>\n",
       "    </tr>\n",
       "    <tr>\n",
       "      <th>192</th>\n",
       "      <td>127.jpg</td>\n",
       "      <td>0</td>\n",
       "      <td>0.000020</td>\n",
       "      <td>[63.5321867321867]</td>\n",
       "      <td>[64.5316953316953]</td>\n",
       "    </tr>\n",
       "    <tr>\n",
       "      <th>193</th>\n",
       "      <td>126.jpg</td>\n",
       "      <td>0</td>\n",
       "      <td>0.000013</td>\n",
       "      <td>[63.031941031941]</td>\n",
       "      <td>[64.0314496314496]</td>\n",
       "    </tr>\n",
       "    <tr>\n",
       "      <th>194</th>\n",
       "      <td>132.jpg</td>\n",
       "      <td>0</td>\n",
       "      <td>0.000257</td>\n",
       "      <td>[66.0334152334152]</td>\n",
       "      <td>[67.0329238329238]</td>\n",
       "    </tr>\n",
       "    <tr>\n",
       "      <th>195</th>\n",
       "      <td>21.jpg</td>\n",
       "      <td>0</td>\n",
       "      <td>0.002390</td>\n",
       "      <td>[10.5061425061425]</td>\n",
       "      <td>[11.505651105651099]</td>\n",
       "    </tr>\n",
       "    <tr>\n",
       "      <th>196</th>\n",
       "      <td>35.jpg</td>\n",
       "      <td>1</td>\n",
       "      <td>0.925671</td>\n",
       "      <td>[17.5095823095823]</td>\n",
       "      <td>[18.509090909090897]</td>\n",
       "    </tr>\n",
       "  </tbody>\n",
       "</table>\n",
       "<p>197 rows × 5 columns</p>\n",
       "</div>"
      ],
      "text/plain": [
       "    image_number  prediction  probability            start time  \\\n",
       "0         10.jpg           0     0.003044   [5.003439803439799]   \n",
       "1         38.jpg           0     0.000035  [19.010319410319397]   \n",
       "2        117.jpg           0     0.000008    [58.5297297297297]   \n",
       "3        103.jpg           0     0.000572    [51.5262899262899]   \n",
       "4          1.jpg           0     0.000070   [0.501228501228501]   \n",
       "..           ...         ...          ...                   ...   \n",
       "192      127.jpg           0     0.000020    [63.5321867321867]   \n",
       "193      126.jpg           0     0.000013     [63.031941031941]   \n",
       "194      132.jpg           0     0.000257    [66.0334152334152]   \n",
       "195       21.jpg           0     0.002390    [10.5061425061425]   \n",
       "196       35.jpg           1     0.925671    [17.5095823095823]   \n",
       "\n",
       "                stop time  \n",
       "0     [6.002948402948401]  \n",
       "1       [20.009828009828]  \n",
       "2    [59.529238329238304]  \n",
       "3      [52.5257985257985]  \n",
       "4    [1.5007371007371002]  \n",
       "..                    ...  \n",
       "192    [64.5316953316953]  \n",
       "193    [64.0314496314496]  \n",
       "194    [67.0329238329238]  \n",
       "195  [11.505651105651099]  \n",
       "196  [18.509090909090897]  \n",
       "\n",
       "[197 rows x 5 columns]"
      ]
     },
     "execution_count": 6,
     "metadata": {},
     "output_type": "execute_result"
    }
   ],
   "source": [
    "# Print results\n",
    "spike_ripple_predictions_df"
   ]
  },
  {
   "cell_type": "code",
   "execution_count": null,
   "metadata": {},
   "outputs": [],
   "source": [
    "# Plot results.\n",
    "prob      = test_df[\"probability\"]           # The probability of a spike ripple,\n",
    "start_t   = test_df[\"start time\"]            # ... for each start time [s],\n",
    "file_name = test_df[\"image_number\"]          # ... and for each image numbere.\n",
    "i_sorted  = np.argsort(start_t)              # Get indices sorted by time.\n",
    "\n",
    "figure(figsize=(20, 6))                      # Plot probability vs time.\n",
    "plt.plot(start_t[i_sorted],prob[i_sorted])\n",
    "plt.xlabel('Time [s]'); plt.ylabel('Probability of spike ripple'); plt.xlim([40,80]);\n",
    "\n",
    "figure(figsize=(20, 6)); xticks(rotation=90) # Plot probability vs file number.\n",
    "plt.plot(file_name[i_sorted], prob[i_sorted])\n",
    "plt.xlabel('Filename'); plt.ylabel('Probability of spike ripple'); plt.xlim([40,80]);"
   ]
  },
  {
   "cell_type": "code",
   "execution_count": null,
   "metadata": {},
   "outputs": [],
   "source": []
  }
 ],
 "metadata": {
  "kernelspec": {
   "display_name": "Python 3",
   "language": "python",
   "name": "python3"
  },
  "language_info": {
   "codemirror_mode": {
    "name": "ipython",
    "version": 3
   },
   "file_extension": ".py",
   "mimetype": "text/x-python",
   "name": "python",
   "nbconvert_exporter": "python",
   "pygments_lexer": "ipython3",
   "version": "3.6.4"
  }
 },
 "nbformat": 4,
 "nbformat_minor": 5
}
