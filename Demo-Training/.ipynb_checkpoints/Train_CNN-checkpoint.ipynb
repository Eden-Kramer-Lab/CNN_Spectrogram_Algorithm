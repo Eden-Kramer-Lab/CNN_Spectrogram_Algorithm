{
 "cells": [
  {
   "cell_type": "markdown",
   "metadata": {},
   "source": [
    "## Demo code to train the CNN spike ripple detector\n",
    "\n",
    "This notebook provides a demonstration of how to train the CNN spike ripple detector.\n",
    "\n",
    "This is only a demonstration.\n",
    "\n",
    "----\n",
    "**DO NOT USE THIS DETECTOR TO ANALYZE YOUR OWN DATA**\n",
    "\n",
    "----"
   ]
  },
  {
   "cell_type": "markdown",
   "metadata": {},
   "source": [
    "Note: this code uses the fastai library *version 1* https://github.com/fastai/fastai1/blob/master/README.md#installation"
   ]
  },
  {
   "cell_type": "markdown",
   "metadata": {},
   "source": [
    "### Load local functions in `demo_training.py`\n",
    "\n",
    "There are XXX functions to:\n",
    "- Create the spectrogram image files (`make_spectra_image_files` and `hannspecgramc`).\n",
    "- Compute and apply the CNN for spike ripple classification (`compute_CNN`).\n",
    "\n",
    "If you'd like to print out and see these functions, uncomment the line below."
   ]
  },
  {
   "cell_type": "code",
   "execution_count": null,
   "metadata": {},
   "outputs": [],
   "source": [
    "%run demo_training.py\n",
    "#%load demo_training.py"
   ]
  },
  {
   "cell_type": "markdown",
   "metadata": {},
   "source": [
    "    # IMAGE_PATH is a directory of data containing train, test, valid folders\n",
    "    # train and valid have subfolders Yes and No of positive and negative image cases, respectively\n",
    "    # test has uncategorized test images\n",
    "    IMAGE_PATH = \".\""
   ]
  },
  {
   "cell_type": "code",
   "execution_count": null,
   "metadata": {},
   "outputs": [],
   "source": [
    "IMAGE_PATH = '.'\n",
    "check_image_count()\n",
    "arch      = resnet34 # using resnet architecture"
   ]
  },
  {
   "cell_type": "markdown",
   "metadata": {},
   "source": [
    "### Get the prepped for training"
   ]
  },
  {
   "cell_type": "code",
   "execution_count": null,
   "metadata": {},
   "outputs": [],
   "source": [
    "data    = get_the_data(IMAGE_PATH, arch)"
   ]
  },
  {
   "cell_type": "markdown",
   "metadata": {},
   "source": [
    "### Train the CNN"
   ]
  },
  {
   "cell_type": "code",
   "execution_count": null,
   "metadata": {},
   "outputs": [],
   "source": [
    "train_the_model(data, arch)"
   ]
  },
  {
   "cell_type": "markdown",
   "metadata": {},
   "source": [
    "### Apply the CNN to `test` data"
   ]
  },
  {
   "cell_type": "code",
   "execution_count": null,
   "metadata": {},
   "outputs": [],
   "source": [
    "test_results = test_the_model(data, arch)"
   ]
  },
  {
   "cell_type": "code",
   "execution_count": null,
   "metadata": {},
   "outputs": [],
   "source": [
    "# Print results.\n",
    "print(test_results.head())\n",
    "\n",
    "# Plot results.\n",
    "prob      = test_results[\"probability\"]           # The probability of a spike ripple,\n",
    "file_name = test_results[\"image_number\"]          # ... and for each image numbere.\n",
    "i_sorted  = np.argsort(file_name)              # Get indices sorted by time.\n",
    "\n",
    "figure(figsize=(20, 6)); xticks(rotation=90) # Plot probability vs file number.\n",
    "plt.plot(file_name[i_sorted], prob[i_sorted])\n",
    "plt.xlabel('Filename'); plt.ylabel('Probability of spike ripple'); plt.xlim([40,80]);"
   ]
  },
  {
   "cell_type": "code",
   "execution_count": null,
   "metadata": {},
   "outputs": [],
   "source": []
  }
 ],
 "metadata": {
  "kernelspec": {
   "display_name": "Python 3",
   "language": "python",
   "name": "python3"
  },
  "language_info": {
   "codemirror_mode": {
    "name": "ipython",
    "version": 3
   },
   "file_extension": ".py",
   "mimetype": "text/x-python",
   "name": "python",
   "nbconvert_exporter": "python",
   "pygments_lexer": "ipython3",
   "version": "3.6.4"
  }
 },
 "nbformat": 4,
 "nbformat_minor": 4
}
