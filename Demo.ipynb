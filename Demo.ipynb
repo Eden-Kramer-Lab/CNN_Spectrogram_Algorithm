{
 "cells": [
  {
   "cell_type": "code",
   "execution_count": 20,
   "metadata": {},
   "outputs": [],
   "source": [
    "import pandas as pd\n",
    "import numpy as np\n",
    "from scipy.ndimage import gaussian_filter\n",
    "from PIL import Image\n",
    "from matplotlib.pyplot import specgram\n",
    "from matplotlib.mlab import window_hanning\n",
    "import scipy\n",
    "import cv2\n",
    "%reload_ext autoreload\n",
    "%autoreload 2\n",
    "# this is the main library used (sits on top of PyTorch)\n",
    "from fastai.imports import *\n",
    "from fastai.transforms import *\n",
    "from fastai.conv_learner import *\n",
    "from fastai.model import *\n",
    "from fastai.dataset import *\n",
    "from fastai.sgdr import *\n",
    "from fastai.plots import *\n",
    "from sklearn import metrics"
   ]
  },
  {
   "cell_type": "code",
   "execution_count": 14,
   "metadata": {},
   "outputs": [],
   "source": [
    "import pandas as pd\n",
    "import numpy as np"
   ]
  },
  {
   "cell_type": "code",
   "execution_count": 23,
   "metadata": {},
   "outputs": [],
   "source": [
    "# data file\n",
    "dEDF = pd.read_csv('dEDF.csv').values\n",
    "# time file\n",
    "tEDF = pd.read_csv('tEDF.csv').values"
   ]
  },
  {
   "cell_type": "code",
   "execution_count": 24,
   "metadata": {},
   "outputs": [],
   "source": [
    "Fs = 1/(tEDF[3]-tEDF[2])\n",
    "Fs = Fs[0]\n",
    "winSize = int(np.round(Fs))\n",
    "winStep = int(np.round(Fs/2))\n",
    "movingwin    = [0.200,0.005] # Window size, Step size [s]\n",
    "iWin   = int(np.round(movingwin[0]*Fs/2)*2);\n",
    "iStep  = int(np.round(movingwin[1]*Fs/2)*2);\n",
    "noverlap = iWin-iStep\n",
    "i_stop = 0\n",
    "i = 0\n",
    "counter = 0"
   ]
  },
  {
   "cell_type": "code",
   "execution_count": 25,
   "metadata": {},
   "outputs": [],
   "source": [
    "def hannspecgramc(d1,movingwin,Fs,tEDF,flo,fhi):\n",
    "    iStart = 1;\n",
    "    iWin   = int(np.round(movingwin[0]*Fs/2)*2);\n",
    "    iStep  = int(np.round(movingwin[1]*Fs/2)*2);\n",
    "    T      = iWin/Fs;\n",
    "    df     = 1/T;\n",
    "    fNQ    = Fs/2;\n",
    "    freq   = range(0,int(iWin/2+1))*df;\n",
    "    counter=1;\n",
    "    S      = np.zeros([int(np.ceil(len(tEDF)/iStep)), int(iWin/2+1)]);\n",
    "    times  = np.zeros([int(np.ceil(len(tEDF)/iStep)), 1]);\n",
    "    while iStart+iWin < len(tEDF):\n",
    "        dnow    = d1[iStart:iStart+iWin-1];\n",
    "        dnow    = dnow - np.mean(dnow);\n",
    "        dnow    = np.hanning(len(dnow))*np.squeeze(dnow);\n",
    "        spectrum= np.real(scipy.fft.fft(dnow)*np.conjugate(scipy.fft.fft(dnow)));\n",
    "        S[counter,:]   = spectrum[:int(iWin/2+1)];\n",
    "        times[counter] = tEDF[int(iStart+iWin/2)];\n",
    "\n",
    "        counter=counter+1;\n",
    "        iStart = iStart + iStep;\n",
    "    S = S[:counter-1,:];\n",
    "    times = times[:counter-1];\n",
    "    S = S[:,(freq>=flo)&(freq<=fhi)]\n",
    "    freq = freq[(freq>=flo)&(freq<=fhi)]\n",
    "    return S,times,freq"
   ]
  },
  {
   "cell_type": "code",
   "execution_count": 28,
   "metadata": {},
   "outputs": [],
   "source": [
    "start_times = []\n",
    "stop_times = []"
   ]
  },
  {
   "cell_type": "code",
   "execution_count": 29,
   "metadata": {},
   "outputs": [
    {
     "ename": "NameError",
     "evalue": "name 'scipy' is not defined",
     "output_type": "error",
     "traceback": [
      "\u001b[0;31m---------------------------------------------------------------------------\u001b[0m",
      "\u001b[0;31mNameError\u001b[0m                                 Traceback (most recent call last)",
      "\u001b[0;32m<ipython-input-29-2a22f483d0af>\u001b[0m in \u001b[0;36m<module>\u001b[0;34m\u001b[0m\n\u001b[1;32m     11\u001b[0m     \u001b[0mfhi\u001b[0m \u001b[0;34m=\u001b[0m \u001b[0;36m250\u001b[0m\u001b[0;34m\u001b[0m\u001b[0;34m\u001b[0m\u001b[0m\n\u001b[1;32m     12\u001b[0m     \u001b[0mmovingwin\u001b[0m    \u001b[0;34m=\u001b[0m \u001b[0;34m[\u001b[0m\u001b[0;36m0.200\u001b[0m\u001b[0;34m,\u001b[0m\u001b[0;36m0.005\u001b[0m\u001b[0;34m]\u001b[0m \u001b[0;31m# Window size, Step size [s]\u001b[0m\u001b[0;34m\u001b[0m\u001b[0;34m\u001b[0m\u001b[0m\n\u001b[0;32m---> 13\u001b[0;31m     \u001b[0mS0\u001b[0m\u001b[0;34m,\u001b[0m\u001b[0mS_times\u001b[0m\u001b[0;34m,\u001b[0m\u001b[0mS_freq\u001b[0m \u001b[0;34m=\u001b[0m \u001b[0mhannspecgramc\u001b[0m\u001b[0;34m(\u001b[0m\u001b[0mdspec\u001b[0m\u001b[0;34m,\u001b[0m\u001b[0mmovingwin\u001b[0m\u001b[0;34m,\u001b[0m\u001b[0mFs\u001b[0m\u001b[0;34m,\u001b[0m\u001b[0mt\u001b[0m\u001b[0;34m,\u001b[0m\u001b[0mflo\u001b[0m\u001b[0;34m,\u001b[0m\u001b[0mfhi\u001b[0m\u001b[0;34m)\u001b[0m\u001b[0;34m\u001b[0m\u001b[0;34m\u001b[0m\u001b[0m\n\u001b[0m\u001b[1;32m     14\u001b[0m     \u001b[0;31m#Smooth the spectra.\u001b[0m\u001b[0;34m\u001b[0m\u001b[0;34m\u001b[0m\u001b[0;34m\u001b[0m\u001b[0m\n\u001b[1;32m     15\u001b[0m     \u001b[0mt_smooth\u001b[0m \u001b[0;34m=\u001b[0m \u001b[0;36m11\u001b[0m\u001b[0;34m\u001b[0m\u001b[0;34m\u001b[0m\u001b[0m\n",
      "\u001b[0;32m<ipython-input-25-65d1bafe3cd5>\u001b[0m in \u001b[0;36mhannspecgramc\u001b[0;34m(d1, movingwin, Fs, tEDF, flo, fhi)\u001b[0m\n\u001b[1;32m     14\u001b[0m         \u001b[0mdnow\u001b[0m    \u001b[0;34m=\u001b[0m \u001b[0mdnow\u001b[0m \u001b[0;34m-\u001b[0m \u001b[0mnp\u001b[0m\u001b[0;34m.\u001b[0m\u001b[0mmean\u001b[0m\u001b[0;34m(\u001b[0m\u001b[0mdnow\u001b[0m\u001b[0;34m)\u001b[0m\u001b[0;34m;\u001b[0m\u001b[0;34m\u001b[0m\u001b[0;34m\u001b[0m\u001b[0m\n\u001b[1;32m     15\u001b[0m         \u001b[0mdnow\u001b[0m    \u001b[0;34m=\u001b[0m \u001b[0mnp\u001b[0m\u001b[0;34m.\u001b[0m\u001b[0mhanning\u001b[0m\u001b[0;34m(\u001b[0m\u001b[0mlen\u001b[0m\u001b[0;34m(\u001b[0m\u001b[0mdnow\u001b[0m\u001b[0;34m)\u001b[0m\u001b[0;34m)\u001b[0m\u001b[0;34m*\u001b[0m\u001b[0mnp\u001b[0m\u001b[0;34m.\u001b[0m\u001b[0msqueeze\u001b[0m\u001b[0;34m(\u001b[0m\u001b[0mdnow\u001b[0m\u001b[0;34m)\u001b[0m\u001b[0;34m;\u001b[0m\u001b[0;34m\u001b[0m\u001b[0;34m\u001b[0m\u001b[0m\n\u001b[0;32m---> 16\u001b[0;31m         \u001b[0mspectrum\u001b[0m\u001b[0;34m=\u001b[0m \u001b[0mnp\u001b[0m\u001b[0;34m.\u001b[0m\u001b[0mreal\u001b[0m\u001b[0;34m(\u001b[0m\u001b[0mscipy\u001b[0m\u001b[0;34m.\u001b[0m\u001b[0mfft\u001b[0m\u001b[0;34m.\u001b[0m\u001b[0mfft\u001b[0m\u001b[0;34m(\u001b[0m\u001b[0mdnow\u001b[0m\u001b[0;34m)\u001b[0m\u001b[0;34m*\u001b[0m\u001b[0mnp\u001b[0m\u001b[0;34m.\u001b[0m\u001b[0mconjugate\u001b[0m\u001b[0;34m(\u001b[0m\u001b[0mscipy\u001b[0m\u001b[0;34m.\u001b[0m\u001b[0mfft\u001b[0m\u001b[0;34m.\u001b[0m\u001b[0mfft\u001b[0m\u001b[0;34m(\u001b[0m\u001b[0mdnow\u001b[0m\u001b[0;34m)\u001b[0m\u001b[0;34m)\u001b[0m\u001b[0;34m)\u001b[0m\u001b[0;34m;\u001b[0m\u001b[0;34m\u001b[0m\u001b[0;34m\u001b[0m\u001b[0m\n\u001b[0m\u001b[1;32m     17\u001b[0m         \u001b[0mS\u001b[0m\u001b[0;34m[\u001b[0m\u001b[0mcounter\u001b[0m\u001b[0;34m,\u001b[0m\u001b[0;34m:\u001b[0m\u001b[0;34m]\u001b[0m   \u001b[0;34m=\u001b[0m \u001b[0mspectrum\u001b[0m\u001b[0;34m[\u001b[0m\u001b[0;34m:\u001b[0m\u001b[0mint\u001b[0m\u001b[0;34m(\u001b[0m\u001b[0miWin\u001b[0m\u001b[0;34m/\u001b[0m\u001b[0;36m2\u001b[0m\u001b[0;34m+\u001b[0m\u001b[0;36m1\u001b[0m\u001b[0;34m)\u001b[0m\u001b[0;34m]\u001b[0m\u001b[0;34m;\u001b[0m\u001b[0;34m\u001b[0m\u001b[0;34m\u001b[0m\u001b[0m\n\u001b[1;32m     18\u001b[0m         \u001b[0mtimes\u001b[0m\u001b[0;34m[\u001b[0m\u001b[0mcounter\u001b[0m\u001b[0;34m]\u001b[0m \u001b[0;34m=\u001b[0m \u001b[0mtEDF\u001b[0m\u001b[0;34m[\u001b[0m\u001b[0mint\u001b[0m\u001b[0;34m(\u001b[0m\u001b[0miStart\u001b[0m\u001b[0;34m+\u001b[0m\u001b[0miWin\u001b[0m\u001b[0;34m/\u001b[0m\u001b[0;36m2\u001b[0m\u001b[0;34m)\u001b[0m\u001b[0;34m]\u001b[0m\u001b[0;34m;\u001b[0m\u001b[0;34m\u001b[0m\u001b[0;34m\u001b[0m\u001b[0m\n",
      "\u001b[0;31mNameError\u001b[0m: name 'scipy' is not defined"
     ]
    }
   ],
   "source": [
    "while tEDF[i_stop] < 600: \n",
    "#only looking at the first 600 seconds, can change to any value\n",
    "\n",
    "    i_start = i\n",
    "    i_stop  = i_start + winSize - 1\n",
    "\n",
    "    dspec = dEDF[i_start:i_stop]\n",
    "    dspec = dspec - np.mean(dspec)\n",
    "    t     = tEDF[i_start:i_stop]\n",
    "    flo = 30\n",
    "    fhi = 250\n",
    "    movingwin    = [0.200,0.005] # Window size, Step size [s]\n",
    "    S0,S_times,S_freq = hannspecgramc(dspec,movingwin,Fs,t,flo,fhi)\n",
    "    #Smooth the spectra.\n",
    "    t_smooth = 11\n",
    "    dt_S     = S_times[2]-S_times[1]\n",
    "    S_smooth = gaussian_filter(S0,1)\n",
    "\n",
    "    A = np.log10(S_smooth)\n",
    "    A = np.flipud(A)\n",
    "    fig, ax = matplotlib.pyplot.subplots(figsize=(6,6))\n",
    "    ax.imshow(A,cmap='jet',\n",
    "           extent = [min(S_freq),max(S_freq),min(S_times)[0],max(S_times)[0]],\n",
    "             aspect = 'auto')\n",
    "\n",
    "    name = 'demo_data/test/img_'+ str(counter)+'.jpg'\n",
    "    \n",
    "    ax.set_axis_off()\n",
    "    fig.savefig(name)\n",
    "    \n",
    "    start_times.append(tEDF[i_start])\n",
    "    stop_times.append(tEDF[i_stop])\n",
    "    \n",
    "    i = i_start + winStep;\n",
    "    counter=counter+1;"
   ]
  },
  {
   "cell_type": "code",
   "execution_count": null,
   "metadata": {},
   "outputs": [],
   "source": [
    "# where the data is\n",
    "PATH = \"data/demo_data\"\n",
    "# using resnet architecture\n",
    "arch = resnet34\n",
    "# size of square image in pixels\n",
    "sz = 44\n",
    "# transforms used on training data\n",
    "transforms_up_down = [RandomScale(sz,1.2),RandomRotate(1)]\n",
    "tfms = tfms_from_model(arch,sz,crop_type = CropType.NO,aug_tfms=transforms_up_down)\n",
    "# data: comes from PATH, used tfms on training data, bs of 8 for training data, test data located in test folder\n",
    "data = ImageClassifierData.from_paths(PATH,tfms=tfms,bs=8,test_name='test')\n",
    "# load in pretraine\n",
    "state = torch.load('saved_model.pkl',map_location=torch.device('cpu')) # remove map_location parameter if on GPU\n",
    "learn2 = ConvLearner.pretrained(arch,data,precompute=False)\n",
    "learn2.model.load_state_dict(state)"
   ]
  },
  {
   "cell_type": "code",
   "execution_count": null,
   "metadata": {},
   "outputs": [],
   "source": [
    "log_preds_test = learn2.predict(is_test=True)\n",
    "preds_test = np.argmax(log_preds_test,axis=1)\n",
    "probs_test = np.exp(log_preds_test[:,1])"
   ]
  },
  {
   "cell_type": "code",
   "execution_count": null,
   "metadata": {},
   "outputs": [],
   "source": [
    "test_names = np.empty_like(data.test_ds.fnames)\n",
    "for i in range(len(data.test_ds.fnames)):\n",
    "    test_names[i] = data.test_ds.fnames[i]\n",
    "    #temp = data.test_ds.fnames[i]\n",
    "    #matchobj = re.search('.*im.*',temp)\n",
    "    #test_names[i] = matchobj.group()\n",
    "test_df = pd.DataFrame(data = test_names,columns = ['image_number'])\n",
    "test_df['prediction'] = preds_test\n",
    "test_df['probability'] = probs_test"
   ]
  },
  {
   "cell_type": "code",
   "execution_count": null,
   "metadata": {},
   "outputs": [],
   "source": [
    "test_df"
   ]
  }
 ],
 "metadata": {
  "kernelspec": {
   "display_name": "Python 3",
   "language": "python",
   "name": "python3"
  },
  "language_info": {
   "codemirror_mode": {
    "name": "ipython",
    "version": 3
   },
   "file_extension": ".py",
   "mimetype": "text/x-python",
   "name": "python",
   "nbconvert_exporter": "python",
   "pygments_lexer": "ipython3",
   "version": "3.8.5"
  }
 },
 "nbformat": 4,
 "nbformat_minor": 5
}
