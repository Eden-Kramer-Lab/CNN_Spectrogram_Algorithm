{
 "cells": [
  {
   "cell_type": "code",
   "execution_count": 21,
   "id": "b4324e8e",
   "metadata": {},
   "outputs": [],
   "source": [
    "import pandas as pd\n",
    "import numpy as np\n",
    "from scipy.ndimage import gaussian_filter\n",
    "from PIL import Image\n",
    "from matplotlib.pyplot import specgram\n",
    "from matplotlib.pyplot import subplots\n",
    "from matplotlib.mlab import window_hanning\n",
    "import matplotlib.pyplot as plt\n",
    "import scipy"
   ]
  },
  {
   "cell_type": "code",
   "execution_count": 22,
   "id": "757a3cf8",
   "metadata": {},
   "outputs": [],
   "source": [
    "import cv2\n",
    "%reload_ext autoreload\n",
    "%autoreload 2\n",
    "# this is the main library used (sits on top of PyTorch)\n",
    "from fastai.imports import *\n",
    "from fastai.transforms import *\n",
    "from fastai.conv_learner import *\n",
    "from fastai.model import *\n",
    "from fastai.dataset import *\n",
    "from fastai.sgdr import *\n",
    "from fastai.plots import *\n",
    "from sklearn import metrics"
   ]
  },
  {
   "cell_type": "code",
   "execution_count": 23,
   "id": "9ba4376a",
   "metadata": {},
   "outputs": [],
   "source": [
    "# data file\n",
    "dEDF = pd.read_csv('dEDF.csv').values\n",
    "# time file\n",
    "tEDF = pd.read_csv('tEDF.csv').values"
   ]
  },
  {
   "cell_type": "code",
   "execution_count": 24,
   "id": "f01e7dd5",
   "metadata": {},
   "outputs": [],
   "source": [
    "Fs = 1/(tEDF[3]-tEDF[2])\n",
    "Fs = Fs[0]\n",
    "winSize = int(np.round(Fs))\n",
    "winStep = int(np.round(Fs/2))\n",
    "movingwin    = [0.200,0.005] # Window size, Step size [s]\n",
    "iWin   = int(np.round(movingwin[0]*Fs/2)*2);\n",
    "iStep  = int(np.round(movingwin[1]*Fs/2)*2);\n",
    "noverlap = iWin-iStep\n",
    "i_stop = 0\n",
    "i = 0\n",
    "counter = 0"
   ]
  },
  {
   "cell_type": "code",
   "execution_count": 25,
   "id": "c571b8a8",
   "metadata": {},
   "outputs": [],
   "source": [
    "def hannspecgramc(d1,movingwin,Fs,tEDF,flo,fhi):\n",
    "    iStart = 1;\n",
    "    iWin   = int(np.round(movingwin[0]*Fs/2)*2);\n",
    "    iStep  = int(np.round(movingwin[1]*Fs/2)*2);\n",
    "    T      = iWin/Fs;\n",
    "    df     = 1/T;\n",
    "    fNQ    = Fs/2;\n",
    "    freq   = range(0,int(iWin/2+1))*df;\n",
    "    counter=1;\n",
    "    S      = np.zeros([int(np.ceil(len(tEDF)/iStep)), int(iWin/2+1)]);\n",
    "    times  = np.zeros([int(np.ceil(len(tEDF)/iStep)), 1]);\n",
    "    while iStart+iWin < len(tEDF):\n",
    "        dnow    = d1[iStart:iStart+iWin-1];\n",
    "        dnow    = dnow - np.mean(dnow);\n",
    "        dnow    = np.hanning(len(dnow))*np.squeeze(dnow);\n",
    "        spectrum= np.real(scipy.fft.fft(dnow)*np.conjugate(scipy.fft.fft(dnow)));\n",
    "        S[counter,:]   = spectrum[:int(iWin/2+1)];\n",
    "        times[counter] = tEDF[int(iStart+iWin/2)];\n",
    "\n",
    "        counter=counter+1;\n",
    "        iStart = iStart + iStep;\n",
    "    S = S[:counter-1,:];\n",
    "    times = times[:counter-1];\n",
    "    S = S[:,(freq>=flo)&(freq<=fhi)]\n",
    "    freq = freq[(freq>=flo)&(freq<=fhi)]\n",
    "    return S,times,freq"
   ]
  },
  {
   "cell_type": "code",
   "execution_count": 26,
   "id": "e8abb1f6",
   "metadata": {},
   "outputs": [],
   "source": [
    "start_times = []\n",
    "stop_times = []"
   ]
  },
  {
   "cell_type": "code",
   "execution_count": 27,
   "id": "9d0b5804",
   "metadata": {},
   "outputs": [],
   "source": [
    "while tEDF[i_stop] < 500: \n",
    "#only looking at the first 600 seconds, can change to any value\n",
    "\n",
    "    i_start = i\n",
    "    i_stop  = i_start + winSize - 1\n",
    "\n",
    "    dspec = dEDF[i_start:i_stop]\n",
    "    dspec = dspec - np.mean(dspec)\n",
    "    t     = tEDF[i_start:i_stop]\n",
    "    flo = 30\n",
    "    fhi = 250\n",
    "    movingwin    = [0.200,0.005] # Window size, Step size [s]\n",
    "    S0,S_times,S_freq = hannspecgramc(dspec,movingwin,Fs,t,flo,fhi)\n",
    "    #Smooth the spectra.\n",
    "    t_smooth = 11\n",
    "    dt_S     = S_times[2]-S_times[1]\n",
    "    S_smooth = gaussian_filter(S0,1)\n",
    "\n",
    "    A = np.log10(S_smooth)\n",
    "    A = np.flipud(A)\n",
    "    \n",
    "    #fig, ax = subplots(figsize=(6,6))\n",
    "    #ax.imshow(A, cmap='jet',\n",
    "    #       extent = [min(S_freq),max(S_freq),min(S_times)[0],max(S_times)[0]],\n",
    "    #         aspect = 'auto')\n",
    "    \n",
    "    name = 'demo_data/test/img_'+ str(counter)+'.jpg'\n",
    "    plt.imsave(name,A,cmap='jet')\n",
    "    \n",
    "    start_times.append(tEDF[i_start])\n",
    "    stop_times.append(tEDF[i_stop])\n",
    "    \n",
    "    i = i_start + winStep;\n",
    "    counter=counter+1;"
   ]
  },
  {
   "cell_type": "code",
   "execution_count": 28,
   "id": "0f7084e7",
   "metadata": {},
   "outputs": [
    {
     "data": {
      "text/plain": [
       "<All keys matched successfully>"
      ]
     },
     "execution_count": 28,
     "metadata": {},
     "output_type": "execute_result"
    }
   ],
   "source": [
    "# where the data is\n",
    "PATH = \"demo_data\"\n",
    "# using resnet architecture\n",
    "arch = resnet34\n",
    "# size of square image in pixels\n",
    "sz = 44\n",
    "# transforms used on training data\n",
    "transforms_up_down = [RandomScale(sz,1.2),RandomRotate(1)]\n",
    "tfms = tfms_from_model(arch,sz,crop_type = CropType.NO,aug_tfms=transforms_up_down)\n",
    "# data: comes from PATH, used tfms on training data, bs of 8 for training data, test data located in test folder\n",
    "data = ImageClassifierData.from_paths(PATH,tfms=tfms,bs=8,test_name='test')\n",
    "# load in pretraine\n",
    "state = torch.load('saved_model.pkl',map_location=torch.device('cpu')) # remove map_location parameter if on GPU\n",
    "learn2 = ConvLearner.pretrained(arch,data,precompute=False)\n",
    "learn2.model.load_state_dict(state)"
   ]
  },
  {
   "cell_type": "code",
   "execution_count": 29,
   "id": "3c3cc4f6",
   "metadata": {},
   "outputs": [],
   "source": [
    "log_preds_test = learn2.predict(is_test=True)\n",
    "preds_test = np.argmax(log_preds_test,axis=1)\n",
    "probs_test = np.exp(log_preds_test[:,1])"
   ]
  },
  {
   "cell_type": "code",
   "execution_count": 31,
   "id": "9ba30c2c",
   "metadata": {},
   "outputs": [],
   "source": [
    "test_names = np.empty_like(data.test_ds.fnames)\n",
    "for i in range(len(data.test_ds.fnames)):\n",
    "    test_names[i] = data.test_ds.fnames[i]\n",
    "    #temp = data.test_ds.fnames[i]\n",
    "    #matchobj = re.search('.*im.*',temp)\n",
    "    #test_names[i] = matchobj.group()\n",
    "test_df = pd.DataFrame(data = test_names,columns = ['image_number'])\n",
    "test_df['prediction'] = preds_test\n",
    "test_df['probability'] = probs_test\n",
    "test_df['start time'] = start_times\n",
    "test_df['stop time'] = stop_times"
   ]
  },
  {
   "cell_type": "code",
   "execution_count": 32,
   "id": "fc4df2ed",
   "metadata": {},
   "outputs": [
    {
     "data": {
      "text/html": [
       "<div>\n",
       "<style scoped>\n",
       "    .dataframe tbody tr th:only-of-type {\n",
       "        vertical-align: middle;\n",
       "    }\n",
       "\n",
       "    .dataframe tbody tr th {\n",
       "        vertical-align: top;\n",
       "    }\n",
       "\n",
       "    .dataframe thead th {\n",
       "        text-align: right;\n",
       "    }\n",
       "</style>\n",
       "<table border=\"1\" class=\"dataframe\">\n",
       "  <thead>\n",
       "    <tr style=\"text-align: right;\">\n",
       "      <th></th>\n",
       "      <th>image_number</th>\n",
       "      <th>prediction</th>\n",
       "      <th>probability</th>\n",
       "      <th>start time</th>\n",
       "      <th>stop time</th>\n",
       "    </tr>\n",
       "  </thead>\n",
       "  <tbody>\n",
       "    <tr>\n",
       "      <th>0</th>\n",
       "      <td>test/img_329.jpg</td>\n",
       "      <td>0</td>\n",
       "      <td>9.521539e-07</td>\n",
       "      <td>[0.0009828]</td>\n",
       "      <td>[1.0005]</td>\n",
       "    </tr>\n",
       "    <tr>\n",
       "      <th>1</th>\n",
       "      <td>test/img_473.jpg</td>\n",
       "      <td>0</td>\n",
       "      <td>7.925246e-05</td>\n",
       "      <td>[0.50123]</td>\n",
       "      <td>[1.5007]</td>\n",
       "    </tr>\n",
       "    <tr>\n",
       "      <th>2</th>\n",
       "      <td>test/img_315.jpg</td>\n",
       "      <td>0</td>\n",
       "      <td>6.219823e-06</td>\n",
       "      <td>[1.0015]</td>\n",
       "      <td>[2.001]</td>\n",
       "    </tr>\n",
       "    <tr>\n",
       "      <th>3</th>\n",
       "      <td>test/img_301.jpg</td>\n",
       "      <td>0</td>\n",
       "      <td>1.280138e-05</td>\n",
       "      <td>[1.5017]</td>\n",
       "      <td>[2.5012]</td>\n",
       "    </tr>\n",
       "    <tr>\n",
       "      <th>4</th>\n",
       "      <td>test/img_467.jpg</td>\n",
       "      <td>0</td>\n",
       "      <td>8.916816e-05</td>\n",
       "      <td>[2.002]</td>\n",
       "      <td>[3.0015]</td>\n",
       "    </tr>\n",
       "    <tr>\n",
       "      <th>...</th>\n",
       "      <td>...</td>\n",
       "      <td>...</td>\n",
       "      <td>...</td>\n",
       "      <td>...</td>\n",
       "      <td>...</td>\n",
       "    </tr>\n",
       "    <tr>\n",
       "      <th>994</th>\n",
       "      <td>test/img_318.jpg</td>\n",
       "      <td>0</td>\n",
       "      <td>5.955371e-04</td>\n",
       "      <td>[497.25]</td>\n",
       "      <td>[498.24]</td>\n",
       "    </tr>\n",
       "    <tr>\n",
       "      <th>995</th>\n",
       "      <td>test/img_442.jpg</td>\n",
       "      <td>0</td>\n",
       "      <td>2.110879e-04</td>\n",
       "      <td>[497.75]</td>\n",
       "      <td>[498.74]</td>\n",
       "    </tr>\n",
       "    <tr>\n",
       "      <th>996</th>\n",
       "      <td>test/img_324.jpg</td>\n",
       "      <td>0</td>\n",
       "      <td>1.563556e-03</td>\n",
       "      <td>[498.25]</td>\n",
       "      <td>[499.25]</td>\n",
       "    </tr>\n",
       "    <tr>\n",
       "      <th>997</th>\n",
       "      <td>test/img_330.jpg</td>\n",
       "      <td>0</td>\n",
       "      <td>4.001802e-04</td>\n",
       "      <td>[498.75]</td>\n",
       "      <td>[499.75]</td>\n",
       "    </tr>\n",
       "    <tr>\n",
       "      <th>998</th>\n",
       "      <td>test/img_456.jpg</td>\n",
       "      <td>0</td>\n",
       "      <td>4.976172e-04</td>\n",
       "      <td>[499.25]</td>\n",
       "      <td>[500.25]</td>\n",
       "    </tr>\n",
       "  </tbody>\n",
       "</table>\n",
       "<p>999 rows × 5 columns</p>\n",
       "</div>"
      ],
      "text/plain": [
       "         image_number  prediction   probability   start time stop time\n",
       "0    test/img_329.jpg           0  9.521539e-07  [0.0009828]  [1.0005]\n",
       "1    test/img_473.jpg           0  7.925246e-05    [0.50123]  [1.5007]\n",
       "2    test/img_315.jpg           0  6.219823e-06     [1.0015]   [2.001]\n",
       "3    test/img_301.jpg           0  1.280138e-05     [1.5017]  [2.5012]\n",
       "4    test/img_467.jpg           0  8.916816e-05      [2.002]  [3.0015]\n",
       "..                ...         ...           ...          ...       ...\n",
       "994  test/img_318.jpg           0  5.955371e-04     [497.25]  [498.24]\n",
       "995  test/img_442.jpg           0  2.110879e-04     [497.75]  [498.74]\n",
       "996  test/img_324.jpg           0  1.563556e-03     [498.25]  [499.25]\n",
       "997  test/img_330.jpg           0  4.001802e-04     [498.75]  [499.75]\n",
       "998  test/img_456.jpg           0  4.976172e-04     [499.25]  [500.25]\n",
       "\n",
       "[999 rows x 5 columns]"
      ]
     },
     "execution_count": 32,
     "metadata": {},
     "output_type": "execute_result"
    }
   ],
   "source": [
    "test_df"
   ]
  },
  {
   "cell_type": "code",
   "execution_count": 33,
   "id": "bd99d82d",
   "metadata": {},
   "outputs": [
    {
     "data": {
      "text/plain": [
       "0.058555178344249725"
      ]
     },
     "execution_count": 33,
     "metadata": {},
     "output_type": "execute_result"
    }
   ],
   "source": [
    "max(test_df['probability'])"
   ]
  },
  {
   "cell_type": "code",
   "execution_count": null,
   "id": "6cd96870",
   "metadata": {},
   "outputs": [],
   "source": []
  }
 ],
 "metadata": {
  "kernelspec": {
   "display_name": "Python 3",
   "language": "python",
   "name": "python3"
  },
  "language_info": {
   "codemirror_mode": {
    "name": "ipython",
    "version": 3
   },
   "file_extension": ".py",
   "mimetype": "text/x-python",
   "name": "python",
   "nbconvert_exporter": "python",
   "pygments_lexer": "ipython3",
   "version": "3.7.7"
  }
 },
 "nbformat": 4,
 "nbformat_minor": 5
}
