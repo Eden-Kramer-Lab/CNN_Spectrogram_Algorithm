{
 "cells": [
  {
   "cell_type": "markdown",
   "metadata": {},
   "source": [
    "# Spectrogram classification Algorithm"
   ]
  },
  {
   "cell_type": "markdown",
   "metadata": {},
   "source": [
    "Note: this code uses the fastai library *version 1* https://github.com/fastai/fastai1/blob/master/README.md#installation"
   ]
  },
  {
   "cell_type": "code",
   "execution_count": 1,
   "metadata": {},
   "outputs": [],
   "source": [
    "# Put these at the top of every notebook, to get automatic reloading and inline plotting\n",
    "%reload_ext autoreload\n",
    "%autoreload 2\n",
    "import matplotlib.pyplot as plt\n",
    "%matplotlib inline\n",
    "# this is the main library used (sits on top of PyTorch)\n",
    "from fastai.imports import *\n",
    "from fastai.transforms import *\n",
    "from fastai.conv_learner import *\n",
    "from fastai.model import *\n",
    "from fastai.dataset import *\n",
    "from fastai.sgdr import *\n",
    "from fastai.plots import *"
   ]
  },
  {
   "cell_type": "code",
   "execution_count": 2,
   "metadata": {},
   "outputs": [],
   "source": [
    "def set_patient(i):\n",
    "    # NEWPATH is a directory of data containing train, test, valid folders\n",
    "    # train and valid have subfolders Yes and No of positive and negative image cases, respectively\n",
    "    # test has uncategorized test images\n",
    "    NEWPATH = \"data/updated_JNM_training_data\"\n",
    "\n",
    "    # avoid having a minibatch of size 1 (normalization issues later on)\n",
    "    train_yes_path = NEWPATH+\"/train/Yes\"\n",
    "    train_no_path = NEWPATH+\"/train/No\"\n",
    "    valid_yes_path = NEWPATH+\"/valid/Yes\"\n",
    "    valid_no_path = NEWPATH+\"/valid/No\"\n",
    "    if len([name for name in os.listdir(train_yes_path) if \".jpg\" in name])%8 == 1:\n",
    "        rname = train_yes_path+\"/\"+os.listdir(train_yes_path)[0]\n",
    "        os.remove(rname)\n",
    "    if len([name for name in os.listdir(train_no_path) if \".jpg\" in name])%8 == 1:\n",
    "        rname = train_no_path+\"/\"+os.listdir(train_no_path)[0]\n",
    "        os.remove(rname)\n",
    "    if len([name for name in os.listdir(valid_yes_path) if \".jpg\" in name])%8 == 1:\n",
    "        rname = valid_yes_path+\"/\"+os.listdir(valid_yes_path)[0]\n",
    "        os.remove(rname)\n",
    "    if len([name for name in os.listdir(valid_no_path) if \".jpg\" in name])%8 == 1:\n",
    "        rname = valid_no_path+\"/\"+os.listdir(valid_no_path)[0]\n",
    "        os.remove(rname)\n",
    "    return NEWPATH"
   ]
  },
  {
   "cell_type": "code",
   "execution_count": 3,
   "metadata": {},
   "outputs": [],
   "source": [
    "# make a transform to flip images along vertical axis, creating artificial expansion of training dataset\n",
    "class RandomFlipUD(CoordTransform):\n",
    "    def __init__(self, tfm_y=TfmType.NO, p=0.5):\n",
    "        super().__init__(tfm_y=tfm_y)\n",
    "        self.p=p\n",
    "    def set_state(self): self.store.do_flip = random.random()<self.p\n",
    "    def do_transform(self, x, is_y): return np.flipud(x).copy() if self.store.do_flip else x"
   ]
  },
  {
   "cell_type": "code",
   "execution_count": 4,
   "metadata": {},
   "outputs": [],
   "source": [
    "def get_the_data():\n",
    "    # define transorms of the data\n",
    "    sz = 44\n",
    "    # flip horizontally to artificially create more trianing data\n",
    "    transforms_up_down = [RandomFlipUD(),RandomScale(sz,1.2),RandomRotate(1)]\n",
    "    # make square without cropping (skew down)\n",
    "    tfms = tfms_from_model(arch,sz,crop_type = CropType.NO,aug_tfms=transforms_up_down)\n",
    "    # get data from path with transforms, batch size 8, test data in 'test' folder\n",
    "    data = ImageClassifierData.from_paths(NEWPATH,tfms=tfms,bs=8,test_name='test')\n",
    "    return data"
   ]
  },
  {
   "cell_type": "code",
   "execution_count": 5,
   "metadata": {},
   "outputs": [],
   "source": [
    "class EarlyStopping(Callback):\n",
    "    # stop training early if validation loss does not improve after patience = 5 iterations\n",
    "    # load best model\n",
    "    def __init__(self, learner, save_path, enc_path=None, patience=5):\n",
    "        super().__init__()\n",
    "        self.learner=learner\n",
    "        self.save_path=save_path\n",
    "        self.enc_path=enc_path\n",
    "        self.patience=patience\n",
    "    def on_train_begin(self):\n",
    "        self.best_val_loss=100\n",
    "        self.num_epochs_no_improvement=0\n",
    "    def on_epoch_end(self, metrics):\n",
    "        val_loss = metrics[0]\n",
    "        if val_loss < self.best_val_loss:\n",
    "            self.best_val_loss = val_loss\n",
    "            self.num_epochs_no_improvement = 0\n",
    "            self.learner.save(self.save_path)\n",
    "            if self.enc_path is not None:\n",
    "                self.learner.save_encoder(self.enc_path)\n",
    "        else:\n",
    "            self.num_epochs_no_improvement += 1\n",
    "        if self.num_epochs_no_improvement > self.patience:\n",
    "            print(f'Stopping - no improvement after {self.patience+1} epochs')\n",
    "            return True\n",
    "    def on_train_end(self):\n",
    "        print(f'Loading best model from {self.save_path}')\n",
    "        self.learner.load(self.save_path)"
   ]
  },
  {
   "cell_type": "code",
   "execution_count": 9,
   "metadata": {},
   "outputs": [],
   "source": [
    "def train_the_model(arch,data):\n",
    "   \n",
    "    #train the model\n",
    "    learn = ConvLearner.pretrained(arch,data,precompute=True)\n",
    "    lr = 1e-2\n",
    "    learn.fit(lr,1)\n",
    "    learn.precompute = False\n",
    "    learn.fit(1e-3,3,cycle_len=1)\n",
    "    learn.unfreeze()\n",
    "    lr = np.array([1e-4,1e-3,1e-2])\n",
    "    cb = [EarlyStopping(learn,save_path='best_mod',patience = 6)]\n",
    "    learn.fit(lr,6,cycle_len=1,cycle_mult=2,callbacks=cb)\n",
    "    \n",
    "    #get output predictions and probabilities\n",
    "    log_preds_test = learn.predict(is_test=True)\n",
    "    preds_test = np.argmax(log_preds_test,axis=1)\n",
    "    probs_test = np.exp(log_preds_test[:,1])\n",
    "    \n",
    "    #make test: a dataframe of test image names, predictions, and probabilities\n",
    "    test_names = np.empty_like(data.test_ds.fnames)\n",
    "    for i in range(len(data.test_ds.fnames)):\n",
    "        test_names[i] = data.test_ds.fnames[i]\n",
    "    test = pd.DataFrame(data = test_names,columns = ['image_number'])\n",
    "    test['prediction'] = preds_test\n",
    "    test['probability'] = probs_test\n",
    "    \n",
    "    return test"
   ]
  },
  {
   "cell_type": "code",
   "execution_count": 10,
   "metadata": {},
   "outputs": [],
   "source": [
    "def perf_measure(y_actual, y_hat):\n",
    "    # measure performance\n",
    "    TP = 0\n",
    "    FP = 0\n",
    "    TN = 0\n",
    "    FN = 0\n",
    "\n",
    "    for i in range(len(y_hat)): \n",
    "        if y_actual[i]==y_hat[i]==1:\n",
    "            TP+= 1\n",
    "        if y_hat[i]==1 and y_actual[i]!=y_hat[i]:\n",
    "            FP += 1\n",
    "        if y_actual[i]==y_hat[i]==0:\n",
    "            TN += 1\n",
    "        if y_hat[i]==0 and y_actual[i]!=y_hat[i]:\n",
    "            FN += 1\n",
    "\n",
    "    return(TP, FP, TN, FN)"
   ]
  },
  {
   "cell_type": "code",
   "execution_count": 11,
   "metadata": {},
   "outputs": [
    {
     "data": {
      "application/vnd.jupyter.widget-view+json": {
       "model_id": "2972597ddedb45969262e648a15bfc55",
       "version_major": 2,
       "version_minor": 0
      },
      "text/html": [
       "<p>Failed to display Jupyter Widget of type <code>HBox</code>.</p>\n",
       "<p>\n",
       "  If you're reading this message in the Jupyter Notebook or JupyterLab Notebook, it may mean\n",
       "  that the widgets JavaScript is still loading. If this message persists, it\n",
       "  likely means that the widgets JavaScript library is either not installed or\n",
       "  not enabled. See the <a href=\"https://ipywidgets.readthedocs.io/en/stable/user_install.html\">Jupyter\n",
       "  Widgets Documentation</a> for setup instructions.\n",
       "</p>\n",
       "<p>\n",
       "  If you're reading this message in another frontend (for example, a static\n",
       "  rendering on GitHub or <a href=\"https://nbviewer.jupyter.org/\">NBViewer</a>),\n",
       "  it may mean that your frontend doesn't currently support widgets.\n",
       "</p>\n"
      ],
      "text/plain": [
       "HBox(children=(IntProgress(value=0, description='Epoch', max=1), HTML(value='')))"
      ]
     },
     "metadata": {},
     "output_type": "display_data"
    },
    {
     "name": "stdout",
     "output_type": "stream",
     "text": [
      "epoch      trn_loss   val_loss   accuracy                     \n",
      "    0      0.729164   0.440497   0.831014  \n",
      "\n"
     ]
    },
    {
     "data": {
      "application/vnd.jupyter.widget-view+json": {
       "model_id": "ec241935ab6c4794bfec4ecb1fb2a9b0",
       "version_major": 2,
       "version_minor": 0
      },
      "text/html": [
       "<p>Failed to display Jupyter Widget of type <code>HBox</code>.</p>\n",
       "<p>\n",
       "  If you're reading this message in the Jupyter Notebook or JupyterLab Notebook, it may mean\n",
       "  that the widgets JavaScript is still loading. If this message persists, it\n",
       "  likely means that the widgets JavaScript library is either not installed or\n",
       "  not enabled. See the <a href=\"https://ipywidgets.readthedocs.io/en/stable/user_install.html\">Jupyter\n",
       "  Widgets Documentation</a> for setup instructions.\n",
       "</p>\n",
       "<p>\n",
       "  If you're reading this message in another frontend (for example, a static\n",
       "  rendering on GitHub or <a href=\"https://nbviewer.jupyter.org/\">NBViewer</a>),\n",
       "  it may mean that your frontend doesn't currently support widgets.\n",
       "</p>\n"
      ],
      "text/plain": [
       "HBox(children=(IntProgress(value=0, description='Epoch', max=3), HTML(value='')))"
      ]
     },
     "metadata": {},
     "output_type": "display_data"
    },
    {
     "name": "stdout",
     "output_type": "stream",
     "text": [
      "epoch      trn_loss   val_loss   accuracy                    \n",
      "    0      0.487585   0.304923   0.867992  \n",
      "    1      0.43838    0.287109   0.879523                    \n",
      "    2      0.422965   0.280096   0.879125                    \n",
      "\n"
     ]
    },
    {
     "data": {
      "application/vnd.jupyter.widget-view+json": {
       "model_id": "ba0b34160f4e4f84806ffaed4fcec7b9",
       "version_major": 2,
       "version_minor": 0
      },
      "text/html": [
       "<p>Failed to display Jupyter Widget of type <code>HBox</code>.</p>\n",
       "<p>\n",
       "  If you're reading this message in the Jupyter Notebook or JupyterLab Notebook, it may mean\n",
       "  that the widgets JavaScript is still loading. If this message persists, it\n",
       "  likely means that the widgets JavaScript library is either not installed or\n",
       "  not enabled. See the <a href=\"https://ipywidgets.readthedocs.io/en/stable/user_install.html\">Jupyter\n",
       "  Widgets Documentation</a> for setup instructions.\n",
       "</p>\n",
       "<p>\n",
       "  If you're reading this message in another frontend (for example, a static\n",
       "  rendering on GitHub or <a href=\"https://nbviewer.jupyter.org/\">NBViewer</a>),\n",
       "  it may mean that your frontend doesn't currently support widgets.\n",
       "</p>\n"
      ],
      "text/plain": [
       "HBox(children=(IntProgress(value=0, description='Epoch', max=63), HTML(value='')))"
      ]
     },
     "metadata": {},
     "output_type": "display_data"
    },
    {
     "name": "stdout",
     "output_type": "stream",
     "text": [
      "epoch      trn_loss   val_loss   accuracy                    \n",
      "    0      0.379149   0.189283   0.93002   \n",
      "    1      0.31651    0.120518   0.956262                    \n",
      "    2      0.205598   0.11113    0.962624                    \n",
      "    3      0.352908   0.112775   0.957455                    \n",
      "    4      0.171938   0.076861   0.975348                    \n",
      "    5      0.11548    0.099423   0.961034                     \n",
      "    6      0.157989   0.074438   0.978529                     \n",
      "    7      0.192357   0.128191   0.959841                    \n",
      "    8      0.127441   0.069557   0.978926                    \n",
      "    9      0.096506   0.064126   0.979324                     \n",
      "    10     0.077063   0.074291   0.972962                     \n",
      "    11     0.052119   0.064469   0.978131                     \n",
      "    12     0.048707   0.064367   0.979722                     \n",
      "    13     0.074135   0.074665   0.976143                     \n",
      "    14     0.061342   0.057074   0.98171                      \n",
      "    15     0.106136   0.21714    0.903777                     \n",
      "    16     0.098897   0.066029   0.982505                     \n",
      "    17     0.058148   0.117957   0.951491                     \n",
      "    18     0.049573   0.043426   0.990457                     \n",
      "    19     0.058626   0.037916   0.990457                     \n",
      "    20     0.07686    0.042083   0.99006                      \n",
      "    21     0.045492   0.049719   0.988867                     \n",
      "    22     0.035282   0.044826   0.994433                     \n",
      "    23     0.0317     0.045015   0.986083                     \n",
      "    24     0.166692   0.095883   0.961829                     \n",
      "    25     0.038573   0.02348    0.995626                     \n",
      "    26     0.030847   0.036507   0.99165                      \n",
      "    27     0.021226   0.035412   0.992445                     \n",
      "    28     0.023084   0.029849   0.995626                     \n",
      "    29     0.014919   0.034671   0.992445                     \n",
      "    30     0.142287   0.052714   0.984095                     \n",
      "    31     0.029805   0.027402   0.993241                     \n",
      "Stopping - no improvement after 7 epochs                      \n",
      "    32     0.032036   0.026917   0.990457  \n",
      "Loading best model from best_mod\n"
     ]
    }
   ],
   "source": [
    "from sklearn import metrics\n",
    "\n",
    "# train the model, run on test data and get output dat\n",
    "NEWPATH = set_patient(0)\n",
    "data = get_the_data()\n",
    "dat = train_the_model(arch,data)"
   ]
  },
  {
   "cell_type": "code",
   "execution_count": null,
   "metadata": {},
   "outputs": [],
   "source": [
    "dat.head()"
   ]
  }
 ],
 "metadata": {
  "kernelspec": {
   "display_name": "Python 3",
   "language": "python",
   "name": "python3"
  },
  "language_info": {
   "codemirror_mode": {
    "name": "ipython",
    "version": 3
   },
   "file_extension": ".py",
   "mimetype": "text/x-python",
   "name": "python",
   "nbconvert_exporter": "python",
   "pygments_lexer": "ipython3",
   "version": "3.6.5"
  }
 },
 "nbformat": 4,
 "nbformat_minor": 2
}
